{
  "nbformat": 4,
  "nbformat_minor": 0,
  "metadata": {
    "colab": {
      "name": "Mr Arowolo.ipynb",
      "provenance": [],
      "authorship_tag": "ABX9TyMsihm7OiAVmG1aMLDqL3yc",
      "include_colab_link": true
    },
    "kernelspec": {
      "name": "python3",
      "display_name": "Python 3"
    },
    "language_info": {
      "name": "python"
    }
  },
  "cells": [
    {
      "cell_type": "markdown",
      "metadata": {
        "id": "view-in-github",
        "colab_type": "text"
      },
      "source": [
        "<a href=\"https://colab.research.google.com/github/Royal-tek/HMS/blob/master/Mr_Arowolo.ipynb\" target=\"_parent\"><img src=\"https://colab.research.google.com/assets/colab-badge.svg\" alt=\"Open In Colab\"/></a>"
      ]
    },
    {
      "cell_type": "code",
      "execution_count": 4,
      "metadata": {
        "id": "RzfIxp8m4gFy"
      },
      "outputs": [],
      "source": [
        "import pandas as pd\n",
        "import numpy as np\n",
        "from sklearn.model_selection import train_test_split\n",
        "from sklearn.preprocessing import StandardScaler\n",
        "from sklearn.metrics import classification_report"
      ]
    },
    {
      "cell_type": "code",
      "source": [
        "df = pd.read_csv(r'/content/bidmc_01_Signals.csv')"
      ],
      "metadata": {
        "id": "6m4UvGrU4sRD"
      },
      "execution_count": 5,
      "outputs": []
    },
    {
      "cell_type": "code",
      "source": [
        "df.head(10)"
      ],
      "metadata": {
        "colab": {
          "base_uri": "https://localhost:8080/",
          "height": 363
        },
        "id": "jihm1WSy40E7",
        "outputId": "0f9d70df-cc53-4a51-e33d-21f2eaec62ab"
      },
      "execution_count": 6,
      "outputs": [
        {
          "output_type": "execute_result",
          "data": {
            "text/plain": [
              "   Time [s]     RESP    PLETH        V      AVR       II\n",
              "0     0.000  0.35386  0.43597  0.52549  0.30392  0.72549\n",
              "1     0.008  0.35679  0.43206  0.51961  0.33529  0.67059\n",
              "2     0.016  0.35875  0.42815  0.51569  0.37451  0.60980\n",
              "3     0.024  0.36168  0.42424  0.50588  0.41961  0.55098\n",
              "4     0.032  0.36364  0.42131  0.50980  0.44902  0.50000\n",
              "5     0.040  0.36559  0.41838  0.50588  0.48039  0.45490\n",
              "6     0.048  0.36657  0.41740  0.51569  0.50980  0.40980\n",
              "7     0.056  0.36852  0.41642  0.51569  0.51961  0.39020\n",
              "8     0.064  0.36852  0.41544  0.51961  0.53529  0.37451\n",
              "9     0.072  0.36852  0.41447  0.51961  0.54510  0.35882"
            ],
            "text/html": [
              "\n",
              "  <div id=\"df-40236a71-d6f5-4f3b-875c-1b22b087c60c\">\n",
              "    <div class=\"colab-df-container\">\n",
              "      <div>\n",
              "<style scoped>\n",
              "    .dataframe tbody tr th:only-of-type {\n",
              "        vertical-align: middle;\n",
              "    }\n",
              "\n",
              "    .dataframe tbody tr th {\n",
              "        vertical-align: top;\n",
              "    }\n",
              "\n",
              "    .dataframe thead th {\n",
              "        text-align: right;\n",
              "    }\n",
              "</style>\n",
              "<table border=\"1\" class=\"dataframe\">\n",
              "  <thead>\n",
              "    <tr style=\"text-align: right;\">\n",
              "      <th></th>\n",
              "      <th>Time [s]</th>\n",
              "      <th>RESP</th>\n",
              "      <th>PLETH</th>\n",
              "      <th>V</th>\n",
              "      <th>AVR</th>\n",
              "      <th>II</th>\n",
              "    </tr>\n",
              "  </thead>\n",
              "  <tbody>\n",
              "    <tr>\n",
              "      <th>0</th>\n",
              "      <td>0.000</td>\n",
              "      <td>0.35386</td>\n",
              "      <td>0.43597</td>\n",
              "      <td>0.52549</td>\n",
              "      <td>0.30392</td>\n",
              "      <td>0.72549</td>\n",
              "    </tr>\n",
              "    <tr>\n",
              "      <th>1</th>\n",
              "      <td>0.008</td>\n",
              "      <td>0.35679</td>\n",
              "      <td>0.43206</td>\n",
              "      <td>0.51961</td>\n",
              "      <td>0.33529</td>\n",
              "      <td>0.67059</td>\n",
              "    </tr>\n",
              "    <tr>\n",
              "      <th>2</th>\n",
              "      <td>0.016</td>\n",
              "      <td>0.35875</td>\n",
              "      <td>0.42815</td>\n",
              "      <td>0.51569</td>\n",
              "      <td>0.37451</td>\n",
              "      <td>0.60980</td>\n",
              "    </tr>\n",
              "    <tr>\n",
              "      <th>3</th>\n",
              "      <td>0.024</td>\n",
              "      <td>0.36168</td>\n",
              "      <td>0.42424</td>\n",
              "      <td>0.50588</td>\n",
              "      <td>0.41961</td>\n",
              "      <td>0.55098</td>\n",
              "    </tr>\n",
              "    <tr>\n",
              "      <th>4</th>\n",
              "      <td>0.032</td>\n",
              "      <td>0.36364</td>\n",
              "      <td>0.42131</td>\n",
              "      <td>0.50980</td>\n",
              "      <td>0.44902</td>\n",
              "      <td>0.50000</td>\n",
              "    </tr>\n",
              "    <tr>\n",
              "      <th>5</th>\n",
              "      <td>0.040</td>\n",
              "      <td>0.36559</td>\n",
              "      <td>0.41838</td>\n",
              "      <td>0.50588</td>\n",
              "      <td>0.48039</td>\n",
              "      <td>0.45490</td>\n",
              "    </tr>\n",
              "    <tr>\n",
              "      <th>6</th>\n",
              "      <td>0.048</td>\n",
              "      <td>0.36657</td>\n",
              "      <td>0.41740</td>\n",
              "      <td>0.51569</td>\n",
              "      <td>0.50980</td>\n",
              "      <td>0.40980</td>\n",
              "    </tr>\n",
              "    <tr>\n",
              "      <th>7</th>\n",
              "      <td>0.056</td>\n",
              "      <td>0.36852</td>\n",
              "      <td>0.41642</td>\n",
              "      <td>0.51569</td>\n",
              "      <td>0.51961</td>\n",
              "      <td>0.39020</td>\n",
              "    </tr>\n",
              "    <tr>\n",
              "      <th>8</th>\n",
              "      <td>0.064</td>\n",
              "      <td>0.36852</td>\n",
              "      <td>0.41544</td>\n",
              "      <td>0.51961</td>\n",
              "      <td>0.53529</td>\n",
              "      <td>0.37451</td>\n",
              "    </tr>\n",
              "    <tr>\n",
              "      <th>9</th>\n",
              "      <td>0.072</td>\n",
              "      <td>0.36852</td>\n",
              "      <td>0.41447</td>\n",
              "      <td>0.51961</td>\n",
              "      <td>0.54510</td>\n",
              "      <td>0.35882</td>\n",
              "    </tr>\n",
              "  </tbody>\n",
              "</table>\n",
              "</div>\n",
              "      <button class=\"colab-df-convert\" onclick=\"convertToInteractive('df-40236a71-d6f5-4f3b-875c-1b22b087c60c')\"\n",
              "              title=\"Convert this dataframe to an interactive table.\"\n",
              "              style=\"display:none;\">\n",
              "        \n",
              "  <svg xmlns=\"http://www.w3.org/2000/svg\" height=\"24px\"viewBox=\"0 0 24 24\"\n",
              "       width=\"24px\">\n",
              "    <path d=\"M0 0h24v24H0V0z\" fill=\"none\"/>\n",
              "    <path d=\"M18.56 5.44l.94 2.06.94-2.06 2.06-.94-2.06-.94-.94-2.06-.94 2.06-2.06.94zm-11 1L8.5 8.5l.94-2.06 2.06-.94-2.06-.94L8.5 2.5l-.94 2.06-2.06.94zm10 10l.94 2.06.94-2.06 2.06-.94-2.06-.94-.94-2.06-.94 2.06-2.06.94z\"/><path d=\"M17.41 7.96l-1.37-1.37c-.4-.4-.92-.59-1.43-.59-.52 0-1.04.2-1.43.59L10.3 9.45l-7.72 7.72c-.78.78-.78 2.05 0 2.83L4 21.41c.39.39.9.59 1.41.59.51 0 1.02-.2 1.41-.59l7.78-7.78 2.81-2.81c.8-.78.8-2.07 0-2.86zM5.41 20L4 18.59l7.72-7.72 1.47 1.35L5.41 20z\"/>\n",
              "  </svg>\n",
              "      </button>\n",
              "      \n",
              "  <style>\n",
              "    .colab-df-container {\n",
              "      display:flex;\n",
              "      flex-wrap:wrap;\n",
              "      gap: 12px;\n",
              "    }\n",
              "\n",
              "    .colab-df-convert {\n",
              "      background-color: #E8F0FE;\n",
              "      border: none;\n",
              "      border-radius: 50%;\n",
              "      cursor: pointer;\n",
              "      display: none;\n",
              "      fill: #1967D2;\n",
              "      height: 32px;\n",
              "      padding: 0 0 0 0;\n",
              "      width: 32px;\n",
              "    }\n",
              "\n",
              "    .colab-df-convert:hover {\n",
              "      background-color: #E2EBFA;\n",
              "      box-shadow: 0px 1px 2px rgba(60, 64, 67, 0.3), 0px 1px 3px 1px rgba(60, 64, 67, 0.15);\n",
              "      fill: #174EA6;\n",
              "    }\n",
              "\n",
              "    [theme=dark] .colab-df-convert {\n",
              "      background-color: #3B4455;\n",
              "      fill: #D2E3FC;\n",
              "    }\n",
              "\n",
              "    [theme=dark] .colab-df-convert:hover {\n",
              "      background-color: #434B5C;\n",
              "      box-shadow: 0px 1px 3px 1px rgba(0, 0, 0, 0.15);\n",
              "      filter: drop-shadow(0px 1px 2px rgba(0, 0, 0, 0.3));\n",
              "      fill: #FFFFFF;\n",
              "    }\n",
              "  </style>\n",
              "\n",
              "      <script>\n",
              "        const buttonEl =\n",
              "          document.querySelector('#df-40236a71-d6f5-4f3b-875c-1b22b087c60c button.colab-df-convert');\n",
              "        buttonEl.style.display =\n",
              "          google.colab.kernel.accessAllowed ? 'block' : 'none';\n",
              "\n",
              "        async function convertToInteractive(key) {\n",
              "          const element = document.querySelector('#df-40236a71-d6f5-4f3b-875c-1b22b087c60c');\n",
              "          const dataTable =\n",
              "            await google.colab.kernel.invokeFunction('convertToInteractive',\n",
              "                                                     [key], {});\n",
              "          if (!dataTable) return;\n",
              "\n",
              "          const docLinkHtml = 'Like what you see? Visit the ' +\n",
              "            '<a target=\"_blank\" href=https://colab.research.google.com/notebooks/data_table.ipynb>data table notebook</a>'\n",
              "            + ' to learn more about interactive tables.';\n",
              "          element.innerHTML = '';\n",
              "          dataTable['output_type'] = 'display_data';\n",
              "          await google.colab.output.renderOutput(dataTable, element);\n",
              "          const docLink = document.createElement('div');\n",
              "          docLink.innerHTML = docLinkHtml;\n",
              "          element.appendChild(docLink);\n",
              "        }\n",
              "      </script>\n",
              "    </div>\n",
              "  </div>\n",
              "  "
            ]
          },
          "metadata": {},
          "execution_count": 6
        }
      ]
    },
    {
      "cell_type": "code",
      "source": [
        "df.shape"
      ],
      "metadata": {
        "colab": {
          "base_uri": "https://localhost:8080/"
        },
        "id": "KPhHO8lsATr8",
        "outputId": "ed5fa186-892b-456b-fa44-400d698886b0"
      },
      "execution_count": 7,
      "outputs": [
        {
          "output_type": "execute_result",
          "data": {
            "text/plain": [
              "(60001, 6)"
            ]
          },
          "metadata": {},
          "execution_count": 7
        }
      ]
    },
    {
      "cell_type": "code",
      "source": [
        "df.isnull().sum()"
      ],
      "metadata": {
        "colab": {
          "base_uri": "https://localhost:8080/"
        },
        "id": "4ZYfTwlKA5PF",
        "outputId": "72dbc931-d796-4412-94eb-1eddae7353b4"
      },
      "execution_count": 8,
      "outputs": [
        {
          "output_type": "execute_result",
          "data": {
            "text/plain": [
              "Time [s]    0\n",
              " RESP       0\n",
              " PLETH      0\n",
              " V          0\n",
              " AVR        0\n",
              " II         0\n",
              "dtype: int64"
            ]
          },
          "metadata": {},
          "execution_count": 8
        }
      ]
    },
    {
      "cell_type": "code",
      "source": [
        "X = df.drop(columns=' AVR', axis=1).values\n",
        "Y = df[' AVR'].values"
      ],
      "metadata": {
        "id": "0jHV3yldBHqf"
      },
      "execution_count": 81,
      "outputs": []
    },
    {
      "cell_type": "code",
      "source": [
        "print(X.shape)\n",
        "print(Y.shape)\n",
        "\n"
      ],
      "metadata": {
        "colab": {
          "base_uri": "https://localhost:8080/"
        },
        "id": "JUnhk3xq-JLr",
        "outputId": "d600e99a-112e-4acc-c93a-79f0fe7f06bd"
      },
      "execution_count": 82,
      "outputs": [
        {
          "output_type": "stream",
          "name": "stdout",
          "text": [
            "(60001, 5)\n",
            "(60001,)\n"
          ]
        }
      ]
    },
    {
      "cell_type": "code",
      "source": [
        "print(X)\n",
        "print(Y)\n"
      ],
      "metadata": {
        "colab": {
          "base_uri": "https://localhost:8080/"
        },
        "id": "33LNY_PGBjKP",
        "outputId": "f89db574-136c-4745-cdac-6a62a5aca35e"
      },
      "execution_count": 83,
      "outputs": [
        {
          "output_type": "stream",
          "name": "stdout",
          "text": [
            "[[0.0000e+00 3.5386e-01 4.3597e-01 5.2549e-01 7.2549e-01]\n",
            " [8.0000e-03 3.5679e-01 4.3206e-01 5.1961e-01 6.7059e-01]\n",
            " [1.6000e-02 3.5875e-01 4.2815e-01 5.1569e-01 6.0980e-01]\n",
            " ...\n",
            " [4.7998e+02 1.4663e-01 4.0176e-01 5.0000e-01 3.8431e-01]\n",
            " [4.7999e+02 1.4174e-01 4.0176e-01 5.0000e-01 3.8039e-01]\n",
            " [4.8000e+02 1.3783e-01 4.0274e-01 4.9412e-01 3.8039e-01]]\n",
            "[0.30392 0.33529 0.37451 ... 0.53529 0.53922 0.53529]\n"
          ]
        }
      ]
    },
    {
      "cell_type": "code",
      "source": [
        ""
      ],
      "metadata": {
        "id": "dX_EP399C4iJ"
      },
      "execution_count": 83,
      "outputs": []
    },
    {
      "cell_type": "code",
      "source": [
        "X_train, Y_train, X_test, Y_test = train_test_split(X, Y, random_state=2, test_size=0.2)\n"
      ],
      "metadata": {
        "id": "KPLtNq_qDhsv"
      },
      "execution_count": 84,
      "outputs": []
    },
    {
      "cell_type": "code",
      "source": [
        ""
      ],
      "metadata": {
        "id": "Rl7fsHhdGw4f"
      },
      "execution_count": 84,
      "outputs": []
    },
    {
      "cell_type": "code",
      "source": [
        "sc = StandardScaler()\n",
        "preX = sc.fit_transform(Y_train)\n",
        "preY = sc.fit_transform(X_train)\n"
      ],
      "metadata": {
        "id": "bCKmmRbJA3kS"
      },
      "execution_count": 85,
      "outputs": []
    },
    {
      "cell_type": "code",
      "source": [
        "\n",
        "print(preX)"
      ],
      "metadata": {
        "colab": {
          "base_uri": "https://localhost:8080/"
        },
        "id": "bmFvAqZWBC0v",
        "outputId": "16f9347e-a034-460b-a612-cd7874300b85"
      },
      "execution_count": 86,
      "outputs": [
        {
          "output_type": "stream",
          "name": "stdout",
          "text": [
            "[[-1.12551534 -0.31518041 -0.51653366 -0.0255931   1.25019853]\n",
            " [-1.03439773 -0.28178916  1.33694935  0.22227209 -0.22262265]\n",
            " [-0.95312129 -0.46683754 -0.21758479  0.03339376 -0.50716577]\n",
            " ...\n",
            " [-1.30607178 -0.6397521  -0.74070709  0.24586683 -0.52389607]\n",
            " [ 1.73192482 -0.65796833  1.75547777 -0.0255931   0.89036906]\n",
            " [-1.33941596  1.2956373  -0.68091732  0.55271888 -0.50716577]]\n"
          ]
        }
      ]
    },
    {
      "cell_type": "code",
      "source": [
        ""
      ],
      "metadata": {
        "id": "rNeHTSBAF2dP"
      },
      "execution_count": 86,
      "outputs": []
    },
    {
      "cell_type": "code",
      "source": [
        "preX = preX.flatten()"
      ],
      "metadata": {
        "id": "_BnK9aJrEWSc"
      },
      "execution_count": 87,
      "outputs": []
    },
    {
      "cell_type": "code",
      "source": [
        "print(preX.shape)\n",
        "print(preY.shape)"
      ],
      "metadata": {
        "colab": {
          "base_uri": "https://localhost:8080/"
        },
        "id": "sZbiw5aqEjtN",
        "outputId": "9129bdc7-12ed-4a9a-86be-3bb2709ccc40"
      },
      "execution_count": 88,
      "outputs": [
        {
          "output_type": "stream",
          "name": "stdout",
          "text": [
            "(60005,)\n",
            "(48000, 5)\n"
          ]
        }
      ]
    },
    {
      "cell_type": "code",
      "source": [
        "from sklearn.svm import SVC"
      ],
      "metadata": {
        "id": "6XdtvILyDtQH"
      },
      "execution_count": 89,
      "outputs": []
    },
    {
      "cell_type": "code",
      "source": [
        "model = SVC()"
      ],
      "metadata": {
        "id": "Aszk7Iv7EaRQ"
      },
      "execution_count": 90,
      "outputs": []
    },
    {
      "cell_type": "code",
      "source": [
        ""
      ],
      "metadata": {
        "id": "EJxx84wQKtfU"
      },
      "execution_count": 90,
      "outputs": []
    },
    {
      "cell_type": "code",
      "source": [
        ""
      ],
      "metadata": {
        "id": "m8oILTr1Edr6"
      },
      "execution_count": 91,
      "outputs": []
    },
    {
      "cell_type": "code",
      "source": [
        ""
      ],
      "metadata": {
        "id": "ZQDx6tC7EjSc"
      },
      "execution_count": null,
      "outputs": []
    }
  ]
}